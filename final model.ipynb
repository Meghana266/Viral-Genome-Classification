{
 "cells": [
  {
   "cell_type": "code",
   "execution_count": 1,
   "id": "984dc98b",
   "metadata": {},
   "outputs": [],
   "source": [
    "import os\n",
    "import pandas as pd\n",
    "import numpy as np\n",
    "from sklearn.model_selection import train_test_split\n",
    "from sklearn.preprocessing import LabelEncoder\n",
    "from sklearn.metrics import confusion_matrix\n",
    "from keras.models import Sequential,load_model\n",
    "from keras.layers import Conv1D, MaxPooling1D, Flatten, Dense, LSTM\n",
    "\n",
    "from tensorflow import keras\n",
    "from tensorflow.keras.models import Model\n",
    "from tensorflow.keras.layers import Conv1D\n",
    "import tensorflow as tf\n",
    "\n",
    "import matplotlib.pyplot as plt"
   ]
  },
  {
   "cell_type": "code",
   "execution_count": 2,
   "id": "142a5d6a",
   "metadata": {},
   "outputs": [],
   "source": [
    "output_folder = \"CNN_Model_Output\"\n",
    "file = \"Combined_Viral_Data.csv\"\n",
    "file2 = \"HIV_HBV_ROTA_EBOLA_OVERALL.csv\"\n",
    "\n",
    "# Load the data\n",
    "data = pd.read_csv(file)\n",
    "data2 = pd.read_csv(file2)\n",
    "\n",
    "# Combine data\n",
    "combined_data = pd.concat([data, data2], ignore_index=True)\n",
    "\n",
    "# Shuffle the combined data\n",
    "shuffled_data = combined_data.sample(frac=1).reset_index(drop=True)\n",
    "\n",
    "# Prepare data for training\n",
    "X = np.array(shuffled_data['DNA'])\n",
    "y = np.array(shuffled_data['Label'])\n",
    "\n",
    "# Splitting data into train and test sets\n",
    "X_train, X_test, y_train, y_test = train_test_split(X, y, test_size=0.2, random_state=42)\n",
    "\n",
    "def pad_sequences(sequences, max_length):\n",
    "    padded_sequences = []\n",
    "    for sequence in sequences:\n",
    "        if len(sequence) < max_length:\n",
    "            padded_sequence = sequence + 'N' * (max_length - len(sequence))\n",
    "        else:\n",
    "            padded_sequence = sequence[:max_length]\n",
    "        padded_sequences.append(padded_sequence)\n",
    "    return padded_sequences\n",
    "\n",
    "max_length = 11195\n",
    "\n",
    "X_train_padded = pad_sequences(X_train, max_length)\n",
    "X_test_padded = pad_sequences(X_test, max_length)\n"
   ]
  },
  {
   "cell_type": "code",
   "execution_count": null,
   "id": "39837d77",
   "metadata": {},
   "outputs": [],
   "source": [
    "# One-hot encoding for DNA sequences\n",
    "def one_hot_encoding(seq):\n",
    "    base_dict = {'A': [1, 0, 0, 0], 'T': [0, 1, 0, 0], 'C': [0, 0, 1, 0], 'G': [0, 0, 0, 1], 'N': [0, 0, 0, 0]}\n",
    "    return np.array([base_dict.get(base, [0, 0, 0, 0]) for base in seq])\n",
    "\n",
    "X_train_encoded = np.array([one_hot_encoding(seq) for seq in X_train_padded])\n",
    "X_test_encoded = np.array([one_hot_encoding(seq) for seq in X_test_padded])\n"
   ]
  },
  {
   "cell_type": "code",
   "execution_count": null,
   "id": "3820e7a1",
   "metadata": {},
   "outputs": [],
   "source": []
  },
  {
   "cell_type": "code",
   "execution_count": null,
   "id": "ad8f802a",
   "metadata": {},
   "outputs": [],
   "source": []
  },
  {
   "cell_type": "code",
   "execution_count": null,
   "id": "c6a89088",
   "metadata": {},
   "outputs": [],
   "source": []
  },
  {
   "cell_type": "code",
   "execution_count": null,
   "id": "3886037e",
   "metadata": {},
   "outputs": [],
   "source": []
  }
 ],
 "metadata": {
  "kernelspec": {
   "display_name": "Python 3 (ipykernel)",
   "language": "python",
   "name": "python3"
  },
  "language_info": {
   "codemirror_mode": {
    "name": "ipython",
    "version": 3
   },
   "file_extension": ".py",
   "mimetype": "text/x-python",
   "name": "python",
   "nbconvert_exporter": "python",
   "pygments_lexer": "ipython3",
   "version": "3.11.5"
  }
 },
 "nbformat": 4,
 "nbformat_minor": 5
}
