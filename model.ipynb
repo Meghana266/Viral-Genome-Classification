{
 "cells": [
  {
   "cell_type": "code",
   "execution_count": 1,
   "id": "7cca1ebe",
   "metadata": {},
   "outputs": [],
   "source": [
    "import os\n",
    "import pandas as pd\n",
    "import numpy as np\n",
    "from sklearn.preprocessing import LabelEncoder\n",
    "from sklearn.metrics import confusion_matrix\n",
    "from keras.models import Sequential,load_model\n",
    "from keras.layers import Conv1D, MaxPooling1D, Flatten, Dense, LSTM\n",
    "\n",
    "from tensorflow import keras\n",
    "from tensorflow.keras.models import Model\n",
    "from tensorflow.keras.layers import Conv1D\n",
    "import tensorflow as tf\n",
    "\n",
    "import matplotlib.pyplot as plt"
   ]
  },
  {
   "cell_type": "code",
   "execution_count": 2,
   "id": "415ae330",
   "metadata": {},
   "outputs": [
    {
     "name": "stdout",
     "output_type": "stream",
     "text": [
      "14700\n"
     ]
    }
   ],
   "source": [
    "output_folder = \"CNN_Model_Output\"\n",
    "file = \"Combined_Viral_Data.csv\"\n",
    "\n",
    "# Define a dictionary to map folder names to disease names and labels\n",
    "disease_mapping = {\n",
    "    \"HBV\": {\"disease\": \"HBV\", \"label\": 0},\n",
    "    \"INFLUENZA\": {\"disease\": \"Influenza\", \"label\": 1},\n",
    "    \"HCV\": {\"disease\": \"HCV\", \"label\": 2},\n",
    "    \"DENGUE\": {\"disease\": \"Dengue\", \"label\": 3}\n",
    "}\n",
    "\n",
    "# Load the data\n",
    "data = pd.read_csv(file)\n",
    "\n",
    "# Shuffle the data\n",
    "data = data.sample(frac=1).reset_index(drop=True)\n",
    "\n",
    "# Prepare data for training\n",
    "X = np.array(data['DNA'])\n",
    "y = np.array(data['Label'])\n",
    "\n",
    "print(len(X))\n",
    "\n",
    "train_size = int(0.8 * len(X))\n",
    "X_train, X_test = X[:train_size], X[train_size:]\n",
    "y_train, y_test = y[:train_size], y[train_size:]\n",
    "\n",
    "def pad_sequences(sequences, max_length):\n",
    "    padded_sequences = []\n",
    "    for sequence in sequences:\n",
    "        if len(sequence) < max_length:\n",
    "            padded_sequence = sequence + 'N' * (max_length - len(sequence))\n",
    "        else:\n",
    "            padded_sequence = sequence[:max_length]\n",
    "        padded_sequences.append(padded_sequence)\n",
    "    return padded_sequences\n",
    "\n",
    "max_length = 11195\n",
    "\n",
    "X_train_padded = pad_sequences(X_train, max_length)\n",
    "X_test_padded = pad_sequences(X_test, max_length)\n"
   ]
  },
  {
   "cell_type": "code",
   "execution_count": 3,
   "id": "3ab3fa0b",
   "metadata": {},
   "outputs": [],
   "source": [
    "# One-hot encoding for DNA sequences\n",
    "def one_hot_encoding(seq):\n",
    "    base_dict = {'A': [1, 0, 0, 0], 'T': [0, 1, 0, 0], 'C': [0, 0, 1, 0], 'G': [0, 0, 0, 1], 'N': [0, 0, 0, 0]}\n",
    "    return np.array([base_dict.get(base, [0, 0, 0, 0]) for base in seq])\n",
    "\n",
    "X_train_encoded = np.array([one_hot_encoding(seq) for seq in X_train_padded])\n",
    "X_test_encoded = np.array([one_hot_encoding(seq) for seq in X_test_padded])\n"
   ]
  },
  {
   "cell_type": "code",
   "execution_count": 4,
   "id": "e5e992e6",
   "metadata": {},
   "outputs": [
    {
     "name": "stdout",
     "output_type": "stream",
     "text": [
      "294/294 [==============================] - 417s 1s/step - loss: 0.0882 - accuracy: 0.9915 - val_loss: 0.0093 - val_accuracy: 0.9979\n",
      "92/92 [==============================] - 20s 215ms/step - loss: 0.0048 - accuracy: 0.9990\n",
      "Test Loss: 0.004757214337587357\n",
      "Test Accuracy: 0.9989795684814453\n",
      "92/92 [==============================] - 20s 214ms/step\n",
      "Confusion Matrix:\n",
      "[[1353    1    0    0]\n",
      " [   0  626    0    0]\n",
      " [   0    0  157    0]\n",
      " [   0    2    0  801]]\n"
     ]
    }
   ],
   "source": [
    "# Define the CNN model\n",
    "model = Sequential()\n",
    "model.add(Conv1D(64, 3, activation='relu', input_shape=(11195,4)))\n",
    "model.add(MaxPooling1D(2))\n",
    "model.add(Conv1D(128, 3, activation='relu'))\n",
    "model.add(MaxPooling1D(2))\n",
    "model.add(Flatten())\n",
    "model.add(Dense(128, activation='relu'))\n",
    "model.add(Dense(4, activation='softmax'))\n",
    "model.compile(optimizer='adam', loss='sparse_categorical_crossentropy', metrics=['accuracy'])\n",
    "\n",
    "# Train the model\n",
    "model.fit(X_train_encoded, y_train, epochs=1, batch_size=32, validation_split=0.2)\n",
    "\n",
    "# Evaluate the model\n",
    "evaluation = model.evaluate(X_test_encoded, y_test)\n",
    "print(\"Test Loss:\", evaluation[0])\n",
    "print(\"Test Accuracy:\", evaluation[1])\n",
    "\n",
    "# Generate and print confusion matrix\n",
    "y_pred = np.argmax(model.predict(X_test_encoded), axis=-1)\n",
    "conf_matrix = confusion_matrix(y_test, y_pred)\n",
    "print(\"Confusion Matrix:\")\n",
    "print(conf_matrix)\n",
    "\n",
    "# Save the model\n",
    "model.save(os.path.join(output_folder, \"cnn_model_all.h5\"))\n"
   ]
  },
  {
   "cell_type": "code",
   "execution_count": null,
   "id": "f2b8b6bf",
   "metadata": {},
   "outputs": [],
   "source": []
  },
  {
   "cell_type": "code",
   "execution_count": null,
   "id": "74125172",
   "metadata": {},
   "outputs": [],
   "source": []
  },
  {
   "cell_type": "code",
   "execution_count": null,
   "id": "03828d07",
   "metadata": {},
   "outputs": [],
   "source": []
  },
  {
   "cell_type": "code",
   "execution_count": null,
   "id": "ac884b03",
   "metadata": {},
   "outputs": [],
   "source": []
  },
  {
   "cell_type": "code",
   "execution_count": 4,
   "id": "dcef421d",
   "metadata": {},
   "outputs": [
    {
     "name": "stdout",
     "output_type": "stream",
     "text": [
      "Epoch 1/2\n",
      "294/294 [==============================] - 48s 151ms/step - loss: 0.3009 - accuracy: 0.9281 - val_loss: 0.0721 - val_accuracy: 0.9919\n",
      "Epoch 2/2\n",
      "294/294 [==============================] - 40s 135ms/step - loss: 0.0576 - accuracy: 0.9911 - val_loss: 0.0462 - val_accuracy: 0.9919\n"
     ]
    },
    {
     "data": {
      "text/plain": [
       "<keras.callbacks.History at 0x2ba79b14650>"
      ]
     },
     "execution_count": 4,
     "metadata": {},
     "output_type": "execute_result"
    }
   ],
   "source": [
    "# Define the CNN model\n",
    "model = Sequential()\n",
    "\n",
    "# Convolutional layer with 7 filters, kernel size of 21, and ReLU activation function\n",
    "model.add(Conv1D(7, 21, activation='relu', input_shape=(11195, 4)))\n",
    "\n",
    "# Max pooling layer with pool size of 1000\n",
    "model.add(MaxPooling1D(1000))\n",
    "\n",
    "# Flatten layer to convert features into a one-dimensional array\n",
    "model.add(Flatten())\n",
    "\n",
    "# Output layer with 4 neurons (for 4 classes) and softmax activation function for classification\n",
    "model.add(Dense(4, activation='softmax'))\n",
    "\n",
    "# Compile the model\n",
    "model.compile(optimizer='adam', loss='sparse_categorical_crossentropy', metrics=['accuracy'])\n",
    "\n",
    "# Train the model\n",
    "model.fit(X_train_encoded, y_train, epochs=2, batch_size=32, validation_split=0.2)"
   ]
  },
  {
   "cell_type": "code",
   "execution_count": 5,
   "id": "02392813",
   "metadata": {},
   "outputs": [
    {
     "name": "stdout",
     "output_type": "stream",
     "text": [
      "Epoch 1/2\n",
      "294/294 [==============================] - 39s 134ms/step - loss: 0.0416 - accuracy: 0.9914 - val_loss: 0.0338 - val_accuracy: 0.9911\n",
      "Epoch 2/2\n",
      "294/294 [==============================] - 38s 131ms/step - loss: 0.0311 - accuracy: 0.9919 - val_loss: 0.0253 - val_accuracy: 0.9923\n"
     ]
    },
    {
     "data": {
      "text/plain": [
       "<keras.callbacks.History at 0x2bb511ada50>"
      ]
     },
     "execution_count": 5,
     "metadata": {},
     "output_type": "execute_result"
    }
   ],
   "source": [
    "# Train the model\n",
    "model.fit(X_train_encoded, y_train, epochs=2, batch_size=32, validation_split=0.2)"
   ]
  },
  {
   "cell_type": "code",
   "execution_count": 6,
   "id": "cafad16d",
   "metadata": {},
   "outputs": [
    {
     "name": "stdout",
     "output_type": "stream",
     "text": [
      "368/368 [==============================] - 14s 37ms/step - loss: 0.0263 - accuracy: 0.9922\n",
      "Test Loss: 0.026271091774106026\n",
      "Test Accuracy: 0.99217689037323\n",
      "368/368 [==============================] - 15s 39ms/step\n",
      "Confusion Matrix:\n",
      "[[5490   22    0    0]\n",
      " [   0 2382    0    0]\n",
      " [   0    0  608    0]\n",
      " [   0   70    0 3188]]\n"
     ]
    }
   ],
   "source": [
    "# Evaluate the model\n",
    "evaluation = model.evaluate(X_train_encoded, y_train)\n",
    "print(\"Test Loss:\", evaluation[0])\n",
    "print(\"Test Accuracy:\", evaluation[1])\n",
    "\n",
    "# Generate and print confusion matrix\n",
    "y_pred = np.argmax(model.predict(X_train_encoded), axis=-1)\n",
    "conf_matrix = confusion_matrix(y_train, y_pred)\n",
    "print(\"Confusion Matrix:\")\n",
    "print(conf_matrix)"
   ]
  },
  {
   "cell_type": "code",
   "execution_count": 7,
   "id": "e23dcc84",
   "metadata": {},
   "outputs": [
    {
     "name": "stdout",
     "output_type": "stream",
     "text": [
      "Model: \"sequential\"\n",
      "_________________________________________________________________\n",
      " Layer (type)                Output Shape              Param #   \n",
      "=================================================================\n",
      " conv1d (Conv1D)             (None, 11175, 7)          595       \n",
      "                                                                 \n",
      " max_pooling1d (MaxPooling1D  (None, 11, 7)            0         \n",
      " )                                                               \n",
      "                                                                 \n",
      " flatten (Flatten)           (None, 77)                0         \n",
      "                                                                 \n",
      " dense (Dense)               (None, 4)                 312       \n",
      "                                                                 \n",
      "=================================================================\n",
      "Total params: 907\n",
      "Trainable params: 907\n",
      "Non-trainable params: 0\n",
      "_________________________________________________________________\n"
     ]
    }
   ],
   "source": [
    "model.summary()"
   ]
  },
  {
   "cell_type": "code",
   "execution_count": null,
   "id": "78f85e19",
   "metadata": {},
   "outputs": [],
   "source": []
  },
  {
   "cell_type": "code",
   "execution_count": 11,
   "id": "1e04079e",
   "metadata": {},
   "outputs": [
    {
     "name": "stdout",
     "output_type": "stream",
     "text": [
      "Epoch 1/2\n",
      "294/294 [==============================] - 40s 133ms/step - loss: 0.4102 - accuracy: 0.8679 - val_loss: 0.0858 - val_accuracy: 0.9936\n",
      "Epoch 2/2\n",
      "294/294 [==============================] - 38s 128ms/step - loss: 0.0608 - accuracy: 0.9925 - val_loss: 0.0480 - val_accuracy: 0.9936\n"
     ]
    },
    {
     "data": {
      "text/plain": [
       "<keras.callbacks.History at 0x2bb572af8d0>"
      ]
     },
     "execution_count": 11,
     "metadata": {},
     "output_type": "execute_result"
    }
   ],
   "source": [
    "# Define the CNN model\n",
    "model = Sequential()\n",
    "\n",
    "# Convolutional layer with 7 filters, kernel size of 21, and ReLU activation function\n",
    "model.add(Conv1D(4, 21, activation='relu', input_shape=(11195, 4)))\n",
    "\n",
    "# Max pooling layer with pool size of 1000\n",
    "model.add(MaxPooling1D(500))\n",
    "\n",
    "# Flatten layer to convert features into a one-dimensional array\n",
    "model.add(Flatten())\n",
    "\n",
    "# Output layer with 4 neurons (for 4 classes) and softmax activation function for classification\n",
    "model.add(Dense(4, activation='softmax'))\n",
    "\n",
    "# Compile the model\n",
    "model.compile(optimizer='adam', loss='sparse_categorical_crossentropy', metrics=['accuracy'])\n",
    "\n",
    "# Train the model\n",
    "model.fit(X_train_encoded, y_train, epochs=2, batch_size=32, validation_split=0.2)"
   ]
  },
  {
   "cell_type": "code",
   "execution_count": 14,
   "id": "b2074601",
   "metadata": {},
   "outputs": [
    {
     "name": "stdout",
     "output_type": "stream",
     "text": [
      "368/368 [==============================] - 13s 36ms/step - loss: 0.0478 - accuracy: 0.9925\n",
      "Test Loss: 0.04781043156981468\n",
      "Test Accuracy: 0.9925169944763184\n",
      "WARNING:tensorflow:6 out of the last 373 calls to <function Model.make_predict_function.<locals>.predict_function at 0x000002BB56FF2DE0> triggered tf.function retracing. Tracing is expensive and the excessive number of tracings could be due to (1) creating @tf.function repeatedly in a loop, (2) passing tensors with different shapes, (3) passing Python objects instead of tensors. For (1), please define your @tf.function outside of the loop. For (2), @tf.function has reduce_retracing=True option that can avoid unnecessary retracing. For (3), please refer to https://www.tensorflow.org/guide/function#controlling_retracing and https://www.tensorflow.org/api_docs/python/tf/function for  more details.\n",
      "368/368 [==============================] - 14s 36ms/step\n",
      "Confusion Matrix:\n",
      "[[5496   16    0    0]\n",
      " [   1 2381    0    0]\n",
      " [   0    0  607    1]\n",
      " [   0   70    0 3188]]\n"
     ]
    }
   ],
   "source": [
    "# Evaluate the model\n",
    "evaluation = model.evaluate(X_train_encoded, y_train)\n",
    "print(\"Test Loss:\", evaluation[0])\n",
    "print(\"Test Accuracy:\", evaluation[1])\n",
    "\n",
    "# Generate and print confusion matrix\n",
    "y_pred = np.argmax(model.predict(X_train_encoded), axis=-1)\n",
    "conf_matrix = confusion_matrix(y_train, y_pred)\n",
    "print(\"Confusion Matrix:\")\n",
    "print(conf_matrix)"
   ]
  },
  {
   "cell_type": "code",
   "execution_count": 16,
   "id": "57d3dbc3",
   "metadata": {},
   "outputs": [
    {
     "name": "stdout",
     "output_type": "stream",
     "text": [
      "Model: \"sequential_1\"\n",
      "_________________________________________________________________\n",
      " Layer (type)                Output Shape              Param #   \n",
      "=================================================================\n",
      " conv1d_1 (Conv1D)           (None, 11175, 4)          340       \n",
      "                                                                 \n",
      " max_pooling1d_1 (MaxPooling  (None, 22, 4)            0         \n",
      " 1D)                                                             \n",
      "                                                                 \n",
      " flatten_1 (Flatten)         (None, 88)                0         \n",
      "                                                                 \n",
      " dense_1 (Dense)             (None, 4)                 356       \n",
      "                                                                 \n",
      "=================================================================\n",
      "Total params: 696\n",
      "Trainable params: 696\n",
      "Non-trainable params: 0\n",
      "_________________________________________________________________\n"
     ]
    }
   ],
   "source": [
    "model.summary()"
   ]
  },
  {
   "cell_type": "code",
   "execution_count": 18,
   "id": "5dc89030",
   "metadata": {},
   "outputs": [
    {
     "name": "stdout",
     "output_type": "stream",
     "text": [
      "1/1 [==============================] - 0s 184ms/step\n"
     ]
    },
    {
     "data": {
      "image/png": "[encoded data removed]",
      "text/plain": [
       "<Figure size 1000x1000 with 4 Axes>"
      ]
     },
     "metadata": {},
     "output_type": "display_data"
    }
   ],
   "source": [
    "import numpy as np\n",
    "import matplotlib.pyplot as plt\n",
    "from keras.models import Model\n",
    "\n",
    "# Create a new model to extract the activations of convolutional layers\n",
    "activation_model = Model(inputs=model.input, outputs=model.layers[1].output)\n",
    "\n",
    "# Get the activations for a sample input\n",
    "sample_input = X_train_encoded[0:1]  # Assuming X_train_encoded is your input data\n",
    "activations = activation_model.predict(sample_input)\n",
    "\n",
    "# Visualize the activations of the first convolutional layer\n",
    "plt.figure(figsize=(10, 10))\n",
    "for i in range(activations.shape[-1]):\n",
    "    plt.subplot(4, 4, i + 1)\n",
    "    plt.plot(activations[0, :, i])  # Plot the activation values instead of using imshow\n",
    "    plt.axis('off')\n",
    "plt.show()"
   ]
  },
  {
   "cell_type": "code",
   "execution_count": null,
   "id": "ad68a340",
   "metadata": {},
   "outputs": [],
   "source": []
  },
  {
   "cell_type": "code",
   "execution_count": null,
   "id": "786bfde1",
   "metadata": {},
   "outputs": [],
   "source": []
  },
  {
   "cell_type": "code",
   "execution_count": null,
   "id": "2f4a0ed2",
   "metadata": {},
   "outputs": [],
   "source": [
    "# Virus-Min. length-Max. length\n",
    "# HCV-5967-10320\n",
    "# Influenza-508-2373\n",
    "# Dengue-1485-11195\n",
    "# HBV-1467-4224"
   ]
  },
  {
   "cell_type": "code",
   "execution_count": 69,
   "id": "4baadcf7",
   "metadata": {},
   "outputs": [
    {
     "name": "stdout",
     "output_type": "stream",
     "text": [
      "Disease: HBV\n",
      "1/1 [==============================] - 0s 170ms/step\n",
      "Sample 1 Feature Maps:\n",
      "Feature Map 1:\n",
      "[[2.9790268 2.2356145 4.0572805 2.7229326 2.5844865 1.9930522 2.5004864\n",
      "  3.0565655 2.7603192 2.8771796 2.507177 ]]\n",
      "Feature Map 2:\n",
      "[[1.9852053 1.9851888 2.6274137 2.5477948 2.3275778 2.289941  2.2619379\n",
      "  2.2006352 2.4169335 2.3716722 2.5701387]]\n",
      "Feature Map 3:\n",
      "[[2.1045387 1.472928  2.2647762 2.0364246 1.7264954 1.8496062 2.1044512\n",
      "  1.7458136 1.5256206 2.3440535 2.051323 ]]\n",
      "Feature Map 4:\n",
      "[[1.8701587 2.2122138 2.0512967 2.2677898 1.9199342 2.0179753 1.7312415\n",
      "  2.02737   2.0233984 1.8990148 2.165316 ]]\n",
      "Feature Map 5:\n",
      "[[2.0801105 1.1497021 1.419212  1.3439082 1.2757307 1.4543734 1.4976139\n",
      "  1.5181153 1.6043817 1.5275285 2.1149135]]\n",
      "Feature Map 6:\n",
      "[[1.8727672 1.9471054 3.1611013 1.990952  1.9932234 2.077317  2.3262177\n",
      "  1.8696096 2.3298206 2.31168   1.9314946]]\n",
      "Feature Map 7:\n",
      "[[2.2415302 2.1598394 2.3192225 2.3939297 2.2801254 2.5000727 2.3539598\n",
      "  2.484123  2.2862694 2.3234131 2.4967883]]\n",
      "1/1 [==============================] - 0s 165ms/step\n",
      "Sample 2 Feature Maps:\n",
      "Feature Map 1:\n",
      "[[2.2532625 3.3660536 2.5876856 2.991433  0.        0.        0.\n",
      "  0.        0.        0.        0.       ]]\n",
      "Feature Map 2:\n",
      "[[2.1727676 2.1663451 2.3703625 2.2972739 0.        0.        0.\n",
      "  0.        0.        0.        0.       ]]\n",
      "Feature Map 3:\n",
      "[[3.1047711 4.095743  1.5672238 1.9154501 0.        0.        0.\n",
      "  0.        0.        0.        0.       ]]\n",
      "Feature Map 4:\n",
      "[[2.024619   1.7722166  1.7644256  1.4692547  0.03624482 0.03624482\n",
      "  0.03624482 0.03624482 0.03624482 0.03624482 0.03624482]]\n",
      "Feature Map 5:\n",
      "[[1.2035742 1.434741  1.3879169 1.1323953 0.        0.        0.\n",
      "  0.        0.        0.        0.       ]]\n",
      "Feature Map 6:\n",
      "[[1.599391   1.4070523  2.0924973  1.774946   0.00385309 0.00385309\n",
      "  0.00385309 0.00385309 0.00385309 0.00385309 0.00385309]]\n",
      "Feature Map 7:\n",
      "[[2.5752823 1.7046778 2.1734836 1.7476196 0.        0.        0.\n",
      "  0.        0.        0.        0.       ]]\n",
      "Disease: Influenza\n",
      "1/1 [==============================] - 0s 200ms/step\n",
      "Sample 1 Feature Maps:\n",
      "Feature Map 1:\n",
      "[[2.4398735 2.1183414 2.1084695 0.        0.        0.        0.\n",
      "  0.        0.        0.        0.       ]]\n",
      "Feature Map 2:\n",
      "[[2.3895166 2.210663  2.038154  0.        0.        0.        0.\n",
      "  0.        0.        0.        0.       ]]\n",
      "Feature Map 3:\n",
      "[[1.6578302 1.2972296 2.1717908 0.        0.        0.        0.\n",
      "  0.        0.        0.        0.       ]]\n",
      "Feature Map 4:\n",
      "[[2.0886307  2.230911   1.8629969  0.03624482 0.03624482 0.03624482\n",
      "  0.03624482 0.03624482 0.03624482 0.03624482 0.03624482]]\n",
      "Feature Map 5:\n",
      "[[1.6389859 1.6021688 1.4430062 0.        0.        0.        0.\n",
      "  0.        0.        0.        0.       ]]\n",
      "Feature Map 6:\n",
      "[[2.4289446  1.7709644  1.7860394  0.00385309 0.00385309 0.00385309\n",
      "  0.00385309 0.00385309 0.00385309 0.00385309 0.00385309]]\n",
      "Feature Map 7:\n",
      "[[2.1485999 2.5701945 2.2031767 0.        0.        0.        0.\n",
      "  0.        0.        0.        0.       ]]\n",
      "1/1 [==============================] - 0s 184ms/step\n",
      "Sample 2 Feature Maps:\n",
      "Feature Map 1:\n",
      "[[2.3843493 3.1380527 2.6219146 2.466392  0.        0.        0.\n",
      "  0.        0.        0.        0.       ]]\n",
      "Feature Map 2:\n",
      "[[2.2519612 2.0560224 2.3534567 2.1297035 0.        0.        0.\n",
      "  0.        0.        0.        0.       ]]\n",
      "Feature Map 3:\n",
      "[[2.7731683 4.095743  2.0417228 2.0797536 0.        0.        0.\n",
      "  0.        0.        0.        0.       ]]\n",
      "Feature Map 4:\n",
      "[[2.024619   1.5936869  1.9675527  1.4847571  0.03624482 0.03624482\n",
      "  0.03624482 0.03624482 0.03624482 0.03624482 0.03624482]]\n",
      "Feature Map 5:\n",
      "[[1.3130407 1.2002755 1.6047794 1.0687773 0.        0.        0.\n",
      "  0.        0.        0.        0.       ]]\n",
      "Feature Map 6:\n",
      "[[1.3555053  1.4070523  1.7776717  1.3969144  0.00385309 0.00385309\n",
      "  0.00385309 0.00385309 0.00385309 0.00385309 0.00385309]]\n",
      "Feature Map 7:\n",
      "[[1.9546732 1.725708  2.024861  1.9005086 0.        0.        0.\n",
      "  0.        0.        0.        0.       ]]\n"
     ]
    }
   ],
   "source": [
    "# Loop through samples for each class\n",
    "for label, indices in class_samples.items():\n",
    "    disease_info = next((key for key, value in disease_mapping.items() if value[\"label\"] == label), None)\n",
    "    disease_name = disease_mapping[disease_info]['disease']\n",
    "    print(f\"Disease: {disease_name}\")\n",
    "    for i in range(min(num_samples_per_class, len(indices))):\n",
    "        # Get the feature maps for the i-th sample of the current class\n",
    "        test_sample = X_test_encoded[indices[i]]\n",
    "        test_feature_maps = get_feature_maps(model, layer_name, test_sample)\n",
    "        \n",
    "        # Print the feature maps\n",
    "        print(f\"Sample {i+1} Feature Maps:\")\n",
    "        for j in range(test_feature_maps.shape[-1]):\n",
    "            print(f\"Feature Map {j+1}:\")\n",
    "            print(test_feature_maps[:, :, j])\n"
   ]
  },
  {
   "cell_type": "code",
   "execution_count": null,
   "id": "d5fa2455",
   "metadata": {},
   "outputs": [],
   "source": []
  },
  {
   "cell_type": "code",
   "execution_count": null,
   "id": "961dd069",
   "metadata": {},
   "outputs": [],
   "source": []
  }
 ],
 "metadata": {
  "kernelspec": {
   "display_name": "Python 3 (ipykernel)",
   "language": "python",
   "name": "python3"
  },
  "language_info": {
   "codemirror_mode": {
    "name": "ipython",
    "version": 3
   },
   "file_extension": ".py",
   "mimetype": "text/x-python",
   "name": "python",
   "nbconvert_exporter": "python",
   "pygments_lexer": "ipython3",
   "version": "3.11.5"
  }
 },
 "nbformat": 4,
 "nbformat_minor": 5
}
