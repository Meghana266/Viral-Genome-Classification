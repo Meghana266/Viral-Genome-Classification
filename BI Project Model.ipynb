{
 "cells": [
  {
   "cell_type": "code",
   "execution_count": 1,
   "id": "d85f0172",
   "metadata": {},
   "outputs": [],
   "source": [
    "import os\n",
    "import pandas as pd\n",
    "import numpy as np\n",
    "from sklearn.metrics import classification_report\n",
    "from sklearn.preprocessing import LabelEncoder\n",
    "from sklearn.metrics import confusion_matrix\n",
    "from keras.models import Sequential,load_model\n",
    "from keras.layers import Embedding, Conv1D, MaxPooling1D, LSTM, Dense, Flatten\n",
    "\n",
    "from tensorflow import keras\n",
    "from tensorflow.keras.models import Model\n",
    "from tensorflow.keras.layers import Conv1D\n",
    "import tensorflow as tf\n",
    "\n",
    "import matplotlib.pyplot as plt"
   ]
  },
  {
   "cell_type": "code",
   "execution_count": 2,
   "id": "8bca099e",
   "metadata": {},
   "outputs": [],
   "source": [
    "output_folder = \"CNN_Model_Output\"\n",
    "file = \"Combined_Viral_Data-3_viruses.csv\"\n",
    "\n",
    "# Load the data\n",
    "data = pd.read_csv(file)\n",
    "\n",
    "# Shuffle the data\n",
    "data = data.sample(frac=1).reset_index(drop=True)\n",
    "\n",
    "# Prepare data for training\n",
    "X = np.array(data['DNA'])\n",
    "y = np.array(data['Label'])\n",
    "\n",
    "train_size = int(0.8 * len(X))\n",
    "X_train, X_test = X[:train_size], X[train_size:]\n",
    "y_train, y_test = y[:train_size], y[train_size:]\n",
    "\n",
    "def pad_sequences(sequences, max_length):\n",
    "    padded_sequences = []\n",
    "    for sequence in sequences:\n",
    "        if len(sequence) < max_length:\n",
    "            padded_sequence = sequence + 'N' * (max_length - len(sequence))\n",
    "        else:\n",
    "            padded_sequence = sequence[:max_length]\n",
    "        padded_sequences.append(padded_sequence)\n",
    "    return padded_sequences\n",
    "\n",
    "max_length = 6000 # Define your maximum sequence length here\n",
    "\n",
    "X_train_padded = pad_sequences(X_train, max_length)\n",
    "X_test_padded = pad_sequences(X_test, max_length)\n"
   ]
  },
  {
   "cell_type": "code",
   "execution_count": 4,
   "id": "e0c2b743",
   "metadata": {},
   "outputs": [],
   "source": [
    "# One-hot encoding for DNA sequences\n",
    "def one_hot_encoding(seq):\n",
    "    base_dict = {'A': [1, 0, 0, 0], 'T': [0, 1, 0, 0], 'C': [0, 0, 1, 0], 'G': [0, 0, 0, 1], 'N': [0, 0, 0, 0]}\n",
    "    return np.array([base_dict.get(base, [0, 0, 0, 0]) for base in seq])\n",
    "\n",
    "X_train_encoded = np.array([one_hot_encoding(seq) for seq in X_train_padded])\n",
    "X_test_encoded = np.array([one_hot_encoding(seq) for seq in X_test_padded])\n",
    "\n"
   ]
  },
  {
   "cell_type": "code",
   "execution_count": 3,
   "id": "25eaee76",
   "metadata": {},
   "outputs": [],
   "source": [
    "label_encoder = LabelEncoder()\n",
    "y_train_encoded = label_encoder.fit_transform(y_train)\n",
    "y_test_encoded = label_encoder.fit_transform(y_test)"
   ]
  },
  {
   "cell_type": "code",
   "execution_count": 6,
   "id": "7e023243",
   "metadata": {},
   "outputs": [
    {
     "name": "stdout",
     "output_type": "stream",
     "text": [
      "235/235 [==============================] - 507s 2s/step - loss: 0.1252 - accuracy: 0.9711 - val_loss: 0.0361 - val_accuracy: 0.9936\n",
      "74/74 [==============================] - 62s 840ms/step - loss: 0.0542 - accuracy: 0.9894\n",
      "Test Loss: 0.05421201139688492\n",
      "Test Accuracy: 0.9893617033958435\n",
      "74/74 [==============================] - 62s 822ms/step\n",
      "Confusion Matrix:\n",
      "[[1370    0    0]\n",
      " [   0  159    0]\n",
      " [  25    0  796]]\n",
      "Classification Report:\n",
      "              precision    recall  f1-score   support\n",
      "\n",
      "           0       0.98      1.00      0.99      1370\n",
      "           1       1.00      1.00      1.00       159\n",
      "           2       1.00      0.97      0.98       821\n",
      "\n",
      "    accuracy                           0.99      2350\n",
      "   macro avg       0.99      0.99      0.99      2350\n",
      "weighted avg       0.99      0.99      0.99      2350\n",
      "\n"
     ]
    }
   ],
   "source": [
    "# Define the CNN model\n",
    "model = Sequential()\n",
    "model.add(Conv1D(64, 3, activation='relu', input_shape=(6000,4)))\n",
    "model.add(MaxPooling1D(2))\n",
    "model.add(Conv1D(128, 3, activation='relu'))\n",
    "model.add(MaxPooling1D(2))\n",
    "model.add(LSTM(100))\n",
    "model.add(Dense(128, activation='relu'))\n",
    "model.add(Dense(3, activation='softmax'))\n",
    "model.compile(optimizer='adam', loss='sparse_categorical_crossentropy', metrics=['accuracy'])\n",
    "\n",
    "# Train the model\n",
    "model.fit(X_train_encoded, y_train_encoded, epochs=10, batch_size=32, validation_split=0.2)\n",
    "\n",
    "# Evaluate the model\n",
    "evaluation = model.evaluate(X_test_encoded, y_test_encoded)\n",
    "print(\"Test Loss:\", evaluation[0])\n",
    "print(\"Test Accuracy:\", evaluation[1])\n",
    "\n",
    "# Generate and print confusion matrix\n",
    "y_pred = np.argmax(model.predict(X_test_encoded), axis=-1)\n",
    "conf_matrix = confusion_matrix(y_test_encoded, y_pred)\n",
    "print(\"Confusion Matrix:\")\n",
    "print(conf_matrix)\n",
    "\n",
    "# Print classification report\n",
    "print(\"Classification Report:\")\n",
    "print(classification_report(y_test_encoded, y_pred))\n",
    "\n",
    "# Save the model\n",
    "model.save(os.path.join(output_folder, \"cnn_model_3_Viruses_onehot.h5\"))\n"
   ]
  },
  {
   "cell_type": "code",
   "execution_count": null,
   "id": "cd080805",
   "metadata": {},
   "outputs": [],
   "source": []
  },
  {
   "cell_type": "code",
   "execution_count": null,
   "id": "4d4b277f",
   "metadata": {},
   "outputs": [],
   "source": []
  },
  {
   "cell_type": "code",
   "execution_count": null,
   "id": "e913c50a",
   "metadata": {},
   "outputs": [],
   "source": []
  },
  {
   "cell_type": "code",
   "execution_count": null,
   "id": "21482747",
   "metadata": {},
   "outputs": [],
   "source": []
  },
  {
   "cell_type": "code",
   "execution_count": null,
   "id": "7a5a6279",
   "metadata": {},
   "outputs": [],
   "source": []
  },
  {
   "cell_type": "code",
   "execution_count": 4,
   "id": "825950fe",
   "metadata": {},
   "outputs": [],
   "source": [
    "def integer_encoding(seq):\n",
    "    base_dict = {'A': 1, 'T': 2, 'C': 3, 'G': 4, 'N': 0}  # Assigning integers to each nucleotide\n",
    "    return [base_dict.get(base, 0) for base in seq]  # Return integer-encoded sequence\n",
    "\n",
    "X_train_encoded = np.array([integer_encoding(seq) for seq in X_train_padded])\n",
    "X_test_encoded = np.array([integer_encoding(seq) for seq in X_test_padded])\n"
   ]
  },
  {
   "cell_type": "code",
   "execution_count": null,
   "id": "0705c11c",
   "metadata": {},
   "outputs": [
    {
     "name": "stdout",
     "output_type": "stream",
     "text": [
      "Epoch 1/10\n",
      "215/235 [==========================>...] - ETA: 59s - loss: 0.1962 - accuracy: 0.9494 "
     ]
    }
   ],
   "source": [
    "# Define the CNN model\n",
    "model = Sequential()\n",
    "model.add(Conv1D(64, 3, activation='relu', input_shape=(6000,1)))\n",
    "model.add(MaxPooling1D(2))\n",
    "model.add(Conv1D(128, 3, activation='relu'))\n",
    "model.add(MaxPooling1D(2))\n",
    "model.add(LSTM(100))\n",
    "model.add(Dense(128, activation='relu'))\n",
    "model.add(Dense(3, activation='softmax'))\n",
    "model.compile(optimizer='adam', loss='sparse_categorical_crossentropy', metrics=['accuracy'])\n",
    "\n",
    "# Train the model\n",
    "model.fit(X_train_encoded, y_train_encoded, epochs=10, batch_size=32, validation_split=0.2)\n"
   ]
  },
  {
   "cell_type": "code",
   "execution_count": null,
   "id": "f064f95e",
   "metadata": {},
   "outputs": [],
   "source": [
    "model = load_model('CNN_Model_Output/cnn_model_3_viruses_label_encoding.h5')\n",
    "\n",
    "# Evaluate the model\n",
    "evaluation = model.evaluate(np.array(X_test_encoded), y_test_encoded)\n",
    "print(\"Test Loss:\", evaluation[0])\n",
    "print(\"Test Accuracy:\", evaluation[1])\n",
    "\n",
    "# Generate and print confusion matrix\n",
    "y_pred = np.argmax(model.predict(np.array(X_test_encoded)), axis=-1)\n",
    "conf_matrix = confusion_matrix(y_test_encoded, y_pred)\n",
    "print(\"Confusion Matrix:\")\n",
    "print(conf_matrix)\n",
    "\n",
    "# Print classification report\n",
    "print(\"Classification Report:\")\n",
    "print(classification_report(y_test_encoded, y_pred))\n",
    "\n"
   ]
  },
  {
   "cell_type": "code",
   "execution_count": null,
   "id": "3fb879e9",
   "metadata": {},
   "outputs": [],
   "source": []
  },
  {
   "cell_type": "code",
   "execution_count": null,
   "id": "601167a5",
   "metadata": {},
   "outputs": [],
   "source": []
  },
  {
   "cell_type": "code",
   "execution_count": 14,
   "id": "bcde3b5e",
   "metadata": {
    "scrolled": true
   },
   "outputs": [
    {
     "name": "stdout",
     "output_type": "stream",
     "text": [
      "Model: \"sequential_3\"\n",
      "_________________________________________________________________\n",
      " Layer (type)                Output Shape              Param #   \n",
      "=================================================================\n",
      " conv1d_6 (Conv1D)           (None, 5998, 64)          1024      \n",
      "                                                                 \n",
      " max_pooling1d_6 (MaxPooling  (None, 2999, 64)         0         \n",
      " 1D)                                                             \n",
      "                                                                 \n",
      " conv1d_7 (Conv1D)           (None, 2997, 128)         24704     \n",
      "                                                                 \n",
      " max_pooling1d_7 (MaxPooling  (None, 1498, 128)        0         \n",
      " 1D)                                                             \n",
      "                                                                 \n",
      " lstm_3 (LSTM)               (None, 100)               91600     \n",
      "                                                                 \n",
      " dense_6 (Dense)             (None, 128)               12928     \n",
      "                                                                 \n",
      " dense_7 (Dense)             (None, 3)                 387       \n",
      "                                                                 \n",
      "=================================================================\n",
      "Total params: 130,643\n",
      "Trainable params: 130,643\n",
      "Non-trainable params: 0\n",
      "_________________________________________________________________\n"
     ]
    }
   ],
   "source": [
    "model.summary()"
   ]
  },
  {
   "cell_type": "code",
   "execution_count": null,
   "id": "e720e81a",
   "metadata": {},
   "outputs": [],
   "source": []
  },
  {
   "cell_type": "code",
   "execution_count": 3,
   "id": "d2977433",
   "metadata": {},
   "outputs": [],
   "source": [
    "def integer_encoding(seq):\n",
    "    base_dict = {'A': 1, 'T': 2, 'C': 3, 'G': 4, 'N': 0}  # Assigning integers to each nucleotide\n",
    "    return [base_dict.get(base, 0) for base in seq]  # Return integer-encoded sequence\n",
    "\n",
    "X_train_encoded = np.array([integer_encoding(seq) for seq in X_train_padded])\n",
    "X_test_encoded = np.array([integer_encoding(seq) for seq in X_test_padded])"
   ]
  },
  {
   "cell_type": "code",
   "execution_count": 4,
   "id": "73aa3f04",
   "metadata": {},
   "outputs": [],
   "source": [
    "def kmers_encoding(seq, kmer_size=3):\n",
    "    kmers = []\n",
    "    for i in range(len(seq) - kmer_size + 1):\n",
    "        kmer = seq[i:i+kmer_size]\n",
    "        kmers.append(kmer)\n",
    "    return kmers\n",
    "\n",
    "X_train_encoded = np.array([kmers_encoding(seq) for seq in X_train_encoded])\n",
    "X_test_encoded = np.array([kmers_encoding(seq) for seq in X_test_encoded])"
   ]
  },
  {
   "cell_type": "code",
   "execution_count": 7,
   "id": "daf97d19",
   "metadata": {},
   "outputs": [
    {
     "data": {
      "text/plain": [
       "(9397, 5998, 3)"
      ]
     },
     "execution_count": 7,
     "metadata": {},
     "output_type": "execute_result"
    }
   ],
   "source": [
    "X_train_encoded.shape"
   ]
  },
  {
   "cell_type": "code",
   "execution_count": 9,
   "id": "a6f9dc53",
   "metadata": {},
   "outputs": [
    {
     "data": {
      "text/plain": [
       "array([[1, 4, 2],\n",
       "       [4, 2, 2],\n",
       "       [2, 2, 4],\n",
       "       ...,\n",
       "       [1, 4, 1],\n",
       "       [4, 1, 2],\n",
       "       [1, 2, 4]])"
      ]
     },
     "execution_count": 9,
     "metadata": {},
     "output_type": "execute_result"
    }
   ],
   "source": [
    "X_train_encoded[0]"
   ]
  },
  {
   "cell_type": "code",
   "execution_count": 15,
   "id": "09215c49",
   "metadata": {},
   "outputs": [
    {
     "name": "stdout",
     "output_type": "stream",
     "text": [
      "235/235 [==============================] - 390s 2s/step - loss: 0.2205 - accuracy: 0.9433 - val_loss: 0.0831 - val_accuracy: 0.9824\n",
      "74/74 [==============================] - 36s 480ms/step - loss: 0.0916 - accuracy: 0.9838\n",
      "Test Loss: 0.09159119427204132\n",
      "Test Accuracy: 0.9838297963142395\n",
      "74/74 [==============================] - 33s 439ms/step\n",
      "Confusion Matrix:\n",
      "[[1426    0    0]\n",
      " [   0  113   18]\n",
      " [  20    0  773]]\n",
      "Classification Report:\n",
      "              precision    recall  f1-score   support\n",
      "\n",
      "           0       0.99      1.00      0.99      1426\n",
      "           1       1.00      0.86      0.93       131\n",
      "           2       0.98      0.97      0.98       793\n",
      "\n",
      "    accuracy                           0.98      2350\n",
      "   macro avg       0.99      0.95      0.97      2350\n",
      "weighted avg       0.98      0.98      0.98      2350\n",
      "\n"
     ]
    }
   ],
   "source": [
    "# Define the CNN model\n",
    "model = Sequential()\n",
    "model.add(Conv1D(64, 3, activation='relu', input_shape=(5998,3)))\n",
    "model.add(MaxPooling1D(2))\n",
    "model.add(Conv1D(128, 3, activation='relu'))\n",
    "model.add(MaxPooling1D(2))\n",
    "model.add(LSTM(100))\n",
    "model.add(Dense(128, activation='relu'))\n",
    "model.add(Dense(3, activation='softmax'))\n",
    "model.compile(optimizer='adam', loss='sparse_categorical_crossentropy', metrics=['accuracy'])\n",
    "\n",
    "# Train the model\n",
    "model.fit(X_train_encoded, y_train_encoded, epochs=10, batch_size=32, validation_split=0.2)\n",
    "\n",
    "# Evaluate the model\n",
    "evaluation = model.evaluate(np.array(X_test_encoded), y_test_encoded)\n",
    "print(\"Test Loss:\", evaluation[0])\n",
    "print(\"Test Accuracy:\", evaluation[1])\n",
    "\n",
    "# Generate and print confusion matrix\n",
    "y_pred = np.argmax(model.predict(np.array(X_test_encoded)), axis=-1)\n",
    "conf_matrix = confusion_matrix(y_test_encoded, y_pred)\n",
    "print(\"Confusion Matrix:\")\n",
    "print(conf_matrix)\n",
    "\n",
    "# Print classification report\n",
    "print(\"Classification Report:\")\n",
    "print(classification_report(y_test_encoded, y_pred))\n",
    "\n",
    "# Save the model\n",
    "model.save(os.path.join(output_folder, \"cnn_model_3_Viruses_kmer3.h5\"))\n"
   ]
  },
  {
   "cell_type": "code",
   "execution_count": null,
   "id": "5add63f1",
   "metadata": {},
   "outputs": [],
   "source": []
  }
 ],
 "metadata": {
  "kernelspec": {
   "display_name": "Python 3 (ipykernel)",
   "language": "python",
   "name": "python3"
  },
  "language_info": {
   "codemirror_mode": {
    "name": "ipython",
    "version": 3
   },
   "file_extension": ".py",
   "mimetype": "text/x-python",
   "name": "python",
   "nbconvert_exporter": "python",
   "pygments_lexer": "ipython3",
   "version": "3.11.5"
  }
 },
 "nbformat": 4,
 "nbformat_minor": 5
}
